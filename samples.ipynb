{
 "cells": [
  {
   "cell_type": "code",
   "execution_count": null,
   "metadata": {},
   "outputs": [],
   "source": [
    "## Holistic Solution using Video in Python\n",
    "\n",
    "import cv2\n",
    "import mediapipe as mp\n",
    "mp_drawing = mp.solutions.drawing_utils\n",
    "mp_drawing_styles = mp.solutions.drawing_styles\n",
    "mp_holistic = mp.solutions.holistic\n",
    "\n",
    "\n",
    "file = 'path/to/your/video'\n",
    "\n",
    "with mp_holistic.Holistic(\n",
    "    static_image_mode=False,\n",
    "    model_complexity=2,\n",
    "    enable_segmentation=False,\n",
    "    refine_face_landmarks=True) as holistic:\n",
    "\n",
    "    video = cv2.VideoCapture(file)\n",
    "    print(\"Video FPS: \", video.get(cv2.CAP_PROP_FPS))\n",
    "    print(\"Video Frame count:\", video.get(cv2.CAP_PROP_FRAME_COUNT))\n",
    "    i=1\n",
    "    while video.isOpened(): \n",
    "        # Capture frame-by-frame\n",
    "        ret, frame = video.read()\n",
    "        # print(f\"Frame {i}\")\n",
    "        i+=1\n",
    "        if not ret:\n",
    "            break\n",
    "\n",
    "        frame_height, frame_width, _ = frame.shape\n",
    "        # Convert the BGR image to RGB before processing.\n",
    "        results = holistic.process(cv2.cvtColor(frame, cv2.COLOR_BGR2RGB))\n",
    "\n",
    "        annotated_frame = frame.copy()\n",
    "        \n",
    "        # Draw pose, left and right hands, and face landmarks on the image.\n",
    "        mp_drawing.draw_landmarks(\n",
    "            annotated_frame,\n",
    "            results.face_landmarks,\n",
    "            mp_holistic.FACEMESH_TESSELATION,\n",
    "            landmark_drawing_spec=None,\n",
    "            connection_drawing_spec=mp_drawing_styles\n",
    "            .get_default_face_mesh_tesselation_style())\n",
    "        mp_drawing.draw_landmarks(\n",
    "            annotated_frame,\n",
    "            results.pose_landmarks,\n",
    "            mp_holistic.POSE_CONNECTIONS,\n",
    "            landmark_drawing_spec=mp_drawing_styles.\n",
    "            get_default_pose_landmarks_style())\n",
    "\n",
    "        # Uncomment following if you want to write to a new video file\n",
    "        # output = cv2.VideoWriter('output_video.mp4', cv2.VideoWriter_fourcc(*'MP4V'), video.get(cv2.CAP_PROP_FPS), frame.shape[:2])\n",
    "        # output.write(annotated_frame)\n",
    "        cv2.imshow('Video Processing...', annotated_frame)\n",
    "        # Plot pose world landmarks.\n",
    "        # mp_drawing.plot_landmarks(\n",
    "        #     results.pose_world_landmarks, mp_holistic.POSE_CONNECTIONS)\n",
    "\n",
    "\n",
    "    # release the video capture object\n",
    "    video.release()\n",
    "\n",
    "    # Uncomment following if you want to write to a new video file\n",
    "    # output.release()\n",
    "    \n",
    "    # Closes all the windows currently opened.\n",
    "    cv2.destroyAllWindows()"
   ]
  }
 ],
 "metadata": {
  "kernelspec": {
   "display_name": "Python 3",
   "language": "python",
   "name": "python3"
  },
  "language_info": {
   "name": "python",
   "version": "3.10.8 (main, Oct 13 2022, 09:48:40) [Clang 14.0.0 (clang-1400.0.29.102)]"
  },
  "orig_nbformat": 4,
  "vscode": {
   "interpreter": {
    "hash": "949777d72b0d2535278d3dc13498b2535136f6dfe0678499012e853ee9abcab1"
   }
  }
 },
 "nbformat": 4,
 "nbformat_minor": 2
}
